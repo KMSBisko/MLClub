{
 "cells": [
  {
   "cell_type": "code",
   "execution_count": 1,
   "metadata": {},
   "outputs": [],
   "source": [
    "from transformers import AutoModelForCausalLM, AutoTokenizer\n",
    "import torch\n",
    "import time\n",
    "\n",
    "# Check if CUDA is available\n",
    "device = torch.device(\"cuda\" if torch.cuda.is_available() else \"cpu\")\n",
    "\n",
    "model_name = \"Vikhrmodels/Vikhr-Llama-3.2-1B-instruct\"\n",
    "model = AutoModelForCausalLM.from_pretrained(model_name).to(device)\n",
    "tokenizer = AutoTokenizer.from_pretrained(model_name)\n"
   ]
  },
  {
   "cell_type": "code",
   "execution_count": 2,
   "metadata": {},
   "outputs": [
    {
     "name": "stderr",
     "output_type": "stream",
     "text": [
      "The attention mask and the pad token id were not set. As a consequence, you may observe unexpected behavior. Please pass your input's `attention_mask` to obtain reliable results.\n",
      "Setting `pad_token_id` to `eos_token_id`:None for open-end generation.\n",
      "The attention mask is not set and cannot be inferred from input because pad token is same as eos token. As a consequence, you may observe unexpected behavior. Please pass your input's `attention_mask` to obtain reliable results.\n",
      "c:\\Users\\LENOVO\\AppData\\Local\\Programs\\Python\\Python312\\Lib\\site-packages\\transformers\\models\\llama\\modeling_llama.py:602: UserWarning: 1Torch was not compiled with flash attention. (Triggered internally at C:\\actions-runner\\_work\\pytorch\\pytorch\\builder\\windows\\pytorch\\aten\\src\\ATen\\native\\transformers\\cuda\\sdp_utils.cpp:555.)\n",
      "  attn_output = torch.nn.functional.scaled_dot_product_attention(\n"
     ]
    },
    {
     "name": "stdout",
     "output_type": "stream",
     "text": [
      "Tokens per second: 6.12\n",
      "Generated Text: Hello World!\n",
      "\n",
      "This is a simple example of a program that prints the string \"Hello, World!\" to the console. This is often used as a starting point for learning programming.\n",
      "\n",
      "Here is the code in Python:\n",
      "\n",
      "```python\n",
      "print(\"Hello\", \"World!\")\n",
      "```\n",
      "\n",
      "When you run this code, it will output the following to your console:\n",
      "\n",
      "```\n",
      "Hello\n",
      "World!\n",
      "```. The double quotes are used to enclose the strings \"hello\" and \"world\" in the Python interpreter, which are then printed to standard output. The `print` function is used in conjunction with the `str()` method to convert the variables to strings before they are printed.\n"
     ]
    }
   ],
   "source": [
    "input_text = \"Hello World\"\n",
    "start_time = time.time()\n",
    "input_ids = tokenizer.encode(input_text, return_tensors=\"pt\").to(device)\n",
    "output = model.generate(\n",
    "  input_ids,\n",
    "  max_length=1512,\n",
    "  temperature=0.3,\n",
    "  num_return_sequences=1,\n",
    "  no_repeat_ngram_size=2,\n",
    "  top_k=50,\n",
    "  top_p=0.95,\n",
    ")\n",
    "end_time = time.time()\n",
    "time_taken = end_time - start_time\n",
    "\n",
    "# Calculate the number of tokens generated\n",
    "num_tokens_generated = output.shape[1]\n",
    "\n",
    "tokens_per_second = num_tokens_generated / time_taken\n",
    "\n",
    "print(f\"Tokens per second: {tokens_per_second:.2f}\")\n",
    "\n",
    "# Decode and print the generated text\n",
    "generated_text = tokenizer.decode(output[0], skip_special_tokens=True)\n",
    "print(\"Generated Text:\", generated_text)"
   ]
  },
  {
   "cell_type": "code",
   "execution_count": null,
   "metadata": {},
   "outputs": [],
   "source": []
  }
 ],
 "metadata": {
  "kernelspec": {
   "display_name": "Python 3",
   "language": "python",
   "name": "python3"
  },
  "language_info": {
   "codemirror_mode": {
    "name": "ipython",
    "version": 3
   },
   "file_extension": ".py",
   "mimetype": "text/x-python",
   "name": "python",
   "nbconvert_exporter": "python",
   "pygments_lexer": "ipython3",
   "version": "3.12.6"
  }
 },
 "nbformat": 4,
 "nbformat_minor": 2
}
