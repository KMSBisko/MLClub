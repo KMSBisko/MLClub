{
 "cells": [
  {
   "cell_type": "code",
   "execution_count": 1,
   "metadata": {},
   "outputs": [],
   "source": [
    "import torch\n",
    "from transformers import AutoModelForSpeechSeq2Seq, AutoProcessor, pipeline\n",
    "from datasets import load_dataset\n",
    "\n",
    "\n",
    "device = \"cuda:0\" if torch.cuda.is_available() else \"cpu\"\n",
    "torch_dtype = torch.float16 if torch.cuda.is_available() else torch.float32\n",
    "\n",
    "model_id = \"openai/whisper-large-v3-turbo\"\n",
    "\n",
    "model = AutoModelForSpeechSeq2Seq.from_pretrained(\n",
    "    model_id, torch_dtype=torch_dtype, low_cpu_mem_usage=True, use_safetensors=True\n",
    ")\n",
    "model.to(device)\n",
    "\n",
    "processor = AutoProcessor.from_pretrained(model_id)\n",
    "\n",
    "pipe = pipeline(\n",
    "    \"automatic-speech-recognition\",\n",
    "    model=model,\n",
    "    tokenizer=processor.tokenizer,\n",
    "    feature_extractor=processor.feature_extractor,\n",
    "    torch_dtype=torch_dtype,\n",
    "    device=device,\n",
    ")"
   ]
  },
  {
   "cell_type": "code",
   "execution_count": 3,
   "metadata": {},
   "outputs": [
    {
     "name": "stderr",
     "output_type": "stream",
     "text": [
      "Due to a bug fix in https://github.com/huggingface/transformers/pull/28687 transcription using a multilingual Whisper will default to language detection followed by transcription instead of translation to English.This might be a breaking change for your use case. If you want to instead always translate your audio to English, make sure to pass `language='en'`.\n",
      "c:\\Users\\LENOVO\\AppData\\Local\\Programs\\Python\\Python312\\Lib\\site-packages\\transformers\\models\\whisper\\modeling_whisper.py:545: UserWarning: 1Torch was not compiled with flash attention. (Triggered internally at C:\\actions-runner\\_work\\pytorch\\pytorch\\builder\\windows\\pytorch\\aten\\src\\ATen\\native\\transformers\\cuda\\sdp_utils.cpp:555.)\n",
      "  attn_output = torch.nn.functional.scaled_dot_product_attention(\n",
      "Passing a tuple of `past_key_values` is deprecated and will be removed in Transformers v4.43.0. You should pass an instance of `EncoderDecoderCache` instead, e.g. `past_key_values=EncoderDecoderCache.from_legacy_cache(past_key_values)`.\n"
     ]
    },
    {
     "name": "stdout",
     "output_type": "stream",
     "text": [
      " All right, listeners, get ready, because today we're diving deep into some seriously core computer science concepts. We're talking arrays, file I.O., and even the magic behind threads, you know, the stuff that really makes software tick. Yeah, these concepts really are the foundation for just so much of what we kind of take for granted in tech today. I mean, they're the unsung heroes powering everything from, you know, simple apps to complex systems. Absolutely. So let's start with arrays. you're probably familiar with variables right which hold like a single piece of data but what happens when you need to store like a whole bunch of values well that's where arrays step in think of an array like a really organized container it's specifically designed to hold a collection of values and the key here is they all have to be the same data type so instead of having like a jumble of individual variables you have this nice neat structure to manage all of that data Okay, yeah, that makes sense. But can you give me a real-world example of how this plays out in code? Sure. One of the sources mentions a class called WordList, and it uses an array to analyze text. So it reads in a bunch of words from a file and then uses the array to figure out how many words there are of each length. So if we could tell you how many one-letter words or two-letter words are in a document. That's pretty cool. And I bet that kind of analysis could be used for all sorts of things, like natural language processing or even cryptography. Exactly. Arrays just provide such a powerful way to organize and manipulate data, which really opens up a ton of possibilities. Now, the source material also mentioned something called ragged arrays. What's the deal with those? They sound kind of messy. Well, you see, a standard 2D array is like a perfectly aligned grid, right, where each row has the same number of columns. But sometimes your data just doesn't fit neatly into that structure. And that's where ragged arrays can be helpful. They offer more flexibility by allowing each row to have a different number of columns. Ah, so it's like having a grid where some rows are shorter than others. Yeah, I can see how that would be useful for representing certain types of data. Precisely. For instance, imagine you're storing data about students and their test scores. Not every student will have taken the same number of tests. So a ragged array would be a perfect way to represent that data. Okay, ragged arrays are definitely going on my list of things to explore further. But let's move on to another type of array that seems pretty powerful. Array lists. Yeah. What makes them so special? Array lists kind of take the concept of arrays to the next level. They're dynamic, which means they can automatically grow or shrink, you know, as you add or remove elements. No more worrying about setting a fixed size up front. So if I'm working on a program where I don't know how much data I'll need to store, an ArrayList would be a good choice. Absolutely. ArrayList provide that flexibility, which is incredibly valuable in many programming scenarios. And, you know, while standard arrays can hold both primitive types and objects, ArrayList work a bit differently. They can only hold objects. So if you want to store a primitive type like an integer, you'll need to use a wrapper class. A wrapper class. What's that all about? It's essentially a way to represent a primitive type as an object. So instead of storing an int directly in an array list, you'd wrap it up in an integer object. But don't worry, Java handles this behind the scenes, so it's not something you need to get too bogged down in. Okay, that's good to know. Now shifting gears a bit, let's talk about file I.O. Why is this concept so crucial in programming? File I.O. or file input output is really the bridge between your program and the persistent storage on your computer. It's how programs save data, load information, and essentially talk to files. So it's like the difference between writing something on a whiteboard and saving it to a document on your computer. The whiteboard's temporary, but the file is there for the long haul. That's a great analogy. Think about all the times you save a document, load a game, or open a photo. That's all file, I.O., and action. And Java provides some really convenient ways to handle these operations at a high level. You know, letting you work directly with data types like integers, strings, and booleans. Without having to worry about the nitty-gritty details of reading and writing raw bytes. Right. That high-level approach sounds much more user-friendly. But I've heard the term buffering thrown around in the context of File.io. What does that mean? Buffering is all about optimizing performance. You see, reading and writing data directly to a hard drive can be slow. Kind of like trying to move a whole library book by book. A buffer acts like a cart, allowing the operating system to read or write data in larger chunks, which makes the whole process much faster. Ah, so it's like batch processing for files. That makes a lot of sense. But the sources emphasize the importance of closing files or flushing buffers. Why is that so critical? Because the buffer is just a temporary holding area in memory. If you don't explicitly close the file or flush the buffer, the data might get stuck there and never actually make it to the hard drive. Kind of like forgetting to unload the cart after moving all the books. Okay, I definitely don't want to lose any data, so I'll remember to close those files. Now, the sources also mentioned something called Text.io. What's special about that? Text.io focuses specifically on working with plain text files, you know, the kind you create in a text editor or view in a web browser. They contain human-readable characters, as opposed to, like, binary data, which needs a special program to interpret. Got it. So it's like the difference between reading a letter and trying to decipher a secret code. The letter is easy to understand, but the code requires a key. And I imagine Java has some tools to make working with text files easier. Absolutely. Classes like Print Writer and Buffered Reader provide convenient ways to write and read text files, making it a breeze to work with this common file format. That's great. But before we move on to the exciting world of threads, I think we need to talk about those pesky things that can sometimes make our programs crash. Exceptions. Ah, yes, exceptions. But, you know, they're not inherently bad. In fact, they're a powerful mechanism for handling errors in a structured way. Think of them as early warning signals that something unexpected has happened in your program. So instead of the whole program, like grinding to a halt, exceptions give us a chance to deal with the problem gracefully. Exactly. Java's try-catch block acts like a safety net, allowing you to catch those exceptions and handle them appropriately. And there's a nuance here. Java has both checked and unchecked exceptions. Wait, there are different flavors of exceptions. I'm intrigued. Think of checked exceptions as like potential problems that the compiler can anticipate, like a file not being found. The compiler actually forces you to deal with these, either by catching them or by explicitly declaring that your method might throw them. Unchecked exceptions, on the other hand, are often runtime errors that are harder to predict, like dividing by zero. So it's like the compiler saying, hey, I know this could be an issue, so make sure you have a plan. Exactly. And Java even lets you create your own custom Ixafan classes so you can tailor your error handling to your specific needs. That's awesome. But before we get too carried away with exceptions, I think it's time to take a deep breath and move on to the mind-bending world of concurrency and threads. All right. So we're back and ready to tackle threads. One of the most powerful and often perplexing concepts in programming. This is where things start to get interesting, where we really unlock the true potential of modern hardware. Yeah. Simultaneous execution, huh? That's pretty intense. So how does a single processor like manage to juggle all these different tasks seemingly, you know, at the same time? It's like a chef somehow preparing five different dishes all at once without burning anything. It's all a clever illusion, really, created by the operating system using something called time slicing. The processor is rapidly switching between different tasks, giving each one a tiny sliver of its attention. Ah, so it's more like the chef, like quickly moving from one dish to the next, making sure each one is getting the right amount of heat and attention at just the right time. But with computers nowadays, it's not all smoke and mirrors anymore, is it? I mean, I've heard of these things called cores that allow for true parallel processing. Exactly. Multiple cores are like having, you know, multiple chefs, each with their own stovetop, working on different parts of the meal. This is where the concept of threads really comes in. Okay, so threads allow a single program to split itself into multiple independent parts. That cannot, like, run concurrently. That's the idea. It's kind of like a recipe where some steps can happen at the same time, like chopping veggies while the oven preheats, right? Threads let you take advantage of that parallelism, which can lead to some pretty significant benefits. Like what? Give me the good stuff. Why should I even care about threads? Well, responsiveness and speed, for starters. Imagine you're, you know, downloading a huge file, and without threads, your entire application would freeze up. You know, until that download finished. Pretty frustrating. Totally. I've been there. But with threads, you could have one thread managing the user interface, keeping it responsive, while another thread is working tirelessly in the background on that download. No more frozen screens. Oh, that's brilliant. And what about speed? How do threads help there? Well, let's say you have a large task, like sorting a million numbers. You could have multiple threads each sorting a portion of that list, all happening concurrently, you know. The overall task gets completed much faster because you're essentially dividing and conquering. Okay, yeah, I'm starting to see the power here. But I imagine, like, dividing up a task for threads. It can't always be straightforward. You're right. The sources talk about two main approaches, task decomposition and domain decomposition. Hmm. Those sound kind of technical. Can you break it down for me? Sure. So task decomposition is like, you know, breaking down a recipe into separate tasks. That can happen concurrently. Like, imagine one thread handling user input in a video game, while another thread updates the graphics, and another one handles the sound effects. Ah, so each thread has, like, its own specialized role to play. Exactly. And then we have domain decomposition, which is more about dividing the data itself into chunks, you know, for different threads to process. Like imagine you need to search a huge database for a specific record. You could split the database into sections and have each thread search a different section all at the same time. OK, that makes sense. It's like searching for a needle in a haystack. Instead of one person searching, you have a whole team tackling different parts of the haystack at once. Yeah. Much more efficient. Exactly. And choosing the right decomposition strategy really depends on the problem, you know, the one you're trying to solve. But there's a bit of a catch here, this whole concurrent execution thing. While it's powerful, it can introduce some tricky challenges. Oh, I knew there had to be a catch. What kind of challenges are we talking about? Well, the big one is synchronization. You see, when you have multiple threads accessing and modifying a shared data, things can get out of sync, leading to, you know, unpredictable results. Uh-oh. That sounds like a recipe for disaster. It's like having multiple chefs trying to follow the same recipe, but they're constantly bumping into each other and using the same ingredients all at the same time. You'd end up with a culinary catastrophe. Exactly. That's where the concept of a race condition comes in. Okay. A race condition. So are the threads, like, literally sprinting against each other in, you know, digital space? Not quite, ha-ha. But it is a good way to visualize it. A race condition happens when the outcome of your program depends on the timing of threads, which can be unpredictable. Imagine two threads trying to update the same variable at the same time. The final value of that variable becomes unpredictable because it depends on which thread wins the race. Yikes. That sounds like an absolute nightmare to debug. So how do we prevent these race conditions from, you know, wreaking havoc on our code? Well, Java provides a really handy tool called the synchronized keyword. Okay, synchronized. So does this mean, like, we make all the threads do a perfectly choreographed dance so they never step on each other's toes? In a way, yes. The synchronized keyword acts like a lock on shared data, making sure that only one thread can access it at a time. Think of it like a sign on the refrigerator that says, you know, one chef at a time. This prevents those multiple threads from trying to modify the same data all at once, eliminating those nasty race conditions. So it's all about creating order in this chaos of concurrent execution. But while we've been focusing on Java here, are these concepts of threads and synchronization like specific to Java or do they apply more broadly in the programming world? Yeah, that's a really great question. You know, it kind of highlights a really important point. We've been exploring these concepts like within the world of Java, but the reality is they're fundamental to programming in general. You're absolutely right. You know, whether you're working with Python, C++I, JavaScript, or really any other language out there, you're going to encounter these core building blocks. Arrays for, you know, organizing your data, file IO for making that data persistent, exceptions for, you know, handling those errors gracefully, and threads for unleashing that power of concurrency. Wow. So the stuff we've been talking about, it goes way beyond just one language then. It's like having like a master key that unlocks understanding across a whole range of programming, huh? Exactly. And you know what's cool? These concepts, they even have like parallels to everyday life. Think about like how you organize your to-do list, right? You're essentially working with an array there, prioritizing tasks, checking things off as you go. Wow. Yeah. I never thought about it like that. And what about like saving a document to your computer? That's file I.O. in action, isn't it? Taking something from your like short-term memory and storing it for the long term. Absolutely. And how about like juggling multiple responsibilities at once? Work, family, hobbies. That's kind of the essence of concurrency, you know, trying to manage all those different tasks effectively without, you know, dropping any balls. So even if someone listening isn't like a hardcore programmer, understanding these concepts can still give them a new perspective on how things work, not just in the digital world, but in like our everyday lives, too. Totally. And remember, we've, you know, we've only just scratched the surface here. There's so much more to learn within each of these topics. So this deep dive, it's really just been like a launchpad then for like further exploration. Exactly. So what like what really piques your curiosity the most? Is it like those intricate ways that arrays can be used to solve problems or the importance of file IO and preserving our digital world? Or maybe it's the art of handling exceptions gracefully or or even those mind bending possibilities of concurrent programming with threads. Tough question. You know, I got to admit, threads are definitely super intriguing. But I'm also, like, fascinated by how arrays can be used in ways you wouldn't expect. There's a real elegance to how they can, like, simplify complex data manipulation. But honestly, I think all these topics we've talked about have left me wanting to learn more. Ha ha. I think that's the beauty of computer science, right? There's always something new to discover. Always, like a challenge to solve. Always another layer to peel back. Well said. Well, on that note, we've reached the end of our deep dive for today. Hopefully you feel inspired to continue exploring these really core concepts, the concepts at the heart of software. And hey, who knows? Maybe one day you'll be the one teaching others about all this cool stuff, the magic of arrays, files, exceptions, and of course, those awesome threads. That's right. And that's it for this episode, everyone. Thanks for joining us on this journey into, you know, the heart of software. If you enjoyed this deep dive, be sure to subscribe to the Deep Dive for more explorations. We're diving deep into all sorts of fascinating topics in the world of knowledge and ideas. See you next time.\n"
     ]
    }
   ],
   "source": [
    "dataset = load_dataset(\"distil-whisper/librispeech_long\", \"clean\", split=\"validation\")\n",
    "sample = \"Untitled notebook.wav\"\n",
    "generate_kwargs = {\n",
    "    \"max_new_tokens\": 444,\n",
    "    \"num_beams\": 1,\n",
    "    \"condition_on_prev_tokens\": False,\n",
    "    \"compression_ratio_threshold\": 1.35,  # zlib compression ratio threshold (in token space)\n",
    "    \"temperature\": (0.0, 0.2, 0.4, 0.6, 0.8, 1.0),\n",
    "    \"logprob_threshold\": -1.0,\n",
    "    \"no_speech_threshold\": 0.6,\n",
    "    \"return_timestamps\": True,\n",
    "}\n",
    "result = pipe(sample, return_timestamps=True)\n",
    "#result = pipe(sample, generate_kwargs=generate_kwargs)\n",
    "print(result[\"text\"])"
   ]
  },
  {
   "cell_type": "code",
   "execution_count": 8,
   "metadata": {},
   "outputs": [
    {
     "name": "stderr",
     "output_type": "stream",
     "text": [
      "c:\\Users\\LENOVO\\AppData\\Local\\Programs\\Python\\Python312\\Lib\\site-packages\\transformers\\models\\whisper\\generation_whisper.py:496: FutureWarning: The input name `inputs` is deprecated. Please make sure to use `input_features` instead.\n",
      "  warnings.warn(\n"
     ]
    },
    {
     "name": "stdout",
     "output_type": "stream",
     "text": [
      " Mr. Quilter is the apostle of the middle classes, and we are glad to welcome his gospel. Nor is Mr. Quilter's manner less interesting than his matter. He tells us that at this festive season of the year, with Christmas and roast beef looming before us, similes drawn from eating and its results occur most readily to the mind. He has grave doubts whether Sir Frederick Layton's work is really Greek after all, and can discover in it but little of rocky Ithaca. Linnell's pictures are a sort of Up Guards and Adam paintings, and Mason's exquisite idles are as national as a jingo poem. Mr. Birkett Foster's landscapes smile at one much in the same way that Mr. Carker used to flash his teeth, and Mr. John Collier gives his sitter a cheerful slap on the back before he says, like a shampooer in a Turkish bath, next man.\n"
     ]
    }
   ],
   "source": [
    "dataset = load_dataset(\"distil-whisper/librispeech_long\", \"clean\", split=\"validation\")\n",
    "sample = dataset[0][\"audio\"]\n",
    "generate_kwargs = {\n",
    "    \"max_new_tokens\": 445,\n",
    "    \"num_beams\": 1,\n",
    "    \"condition_on_prev_tokens\": False,\n",
    "    \"compression_ratio_threshold\": 1.35,  # zlib compression ratio threshold (in token space)\n",
    "    \"temperature\": (0.0, 0.2, 0.4, 0.6, 0.8, 1.0),\n",
    "    \"logprob_threshold\": -1.0,\n",
    "    \"no_speech_threshold\": 0.6,\n",
    "    \"return_timestamps\": True,\n",
    "}\n",
    "\n",
    "result = pipe(sample, generate_kwargs=generate_kwargs)\n",
    "print(result[\"text\"])"
   ]
  },
  {
   "cell_type": "code",
   "execution_count": null,
   "metadata": {},
   "outputs": [],
   "source": []
  }
 ],
 "metadata": {
  "kernelspec": {
   "display_name": "Python 3",
   "language": "python",
   "name": "python3"
  },
  "language_info": {
   "codemirror_mode": {
    "name": "ipython",
    "version": 3
   },
   "file_extension": ".py",
   "mimetype": "text/x-python",
   "name": "python",
   "nbconvert_exporter": "python",
   "pygments_lexer": "ipython3",
   "version": "3.12.6"
  }
 },
 "nbformat": 4,
 "nbformat_minor": 2
}
